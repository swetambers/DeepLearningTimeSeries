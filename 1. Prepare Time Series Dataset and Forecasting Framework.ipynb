{
 "cells": [
  {
   "cell_type": "markdown",
   "metadata": {},
   "source": [
    "The framework to approach time series modeling and forecasting problems are: <br>\n",
    "1. Inputs vs. Outputs: What are the inputs and outputs for a forecast?\n",
    "2. Endogenous vs. Exogenous: Input variables that are influenced or not by other variables in the system?\n",
    "3. Unstructured vs. Structured: No obvious or systematic time-dependent pattern in a time series variable\n",
    "4. Regression vs. Classification : What are some alternate ways to frame your time series forecasting problem?\n",
    "5. Univariate vs. Multivariate: One or multiple input variables measured over time and smae with output?\n",
    "6. Single-step vs. Multi-step: Forecast next step or more than one future time steps?\n",
    "7. Static vs. Dynamic: A forecast model is fit once or on newly available data prior to each prediction?\n",
    "8. Contiguous vs. Discontiguous: Observations are made uniform over time <br>\n",
    "\n",
    "Next let's discover exactly how to transform a time series data set into a three-dimensional structure ready for fitting a CNN or LSTM model. "
   ]
  },
  {
   "cell_type": "code",
   "execution_count": 1,
   "metadata": {},
   "outputs": [],
   "source": [
    "import numpy as np\n",
    "import pandas as pd"
   ]
  },
  {
   "cell_type": "markdown",
   "metadata": {},
   "source": [
    "#### Time Series to Supervised - 2D Data Preparation Basics"
   ]
  },
  {
   "cell_type": "code",
   "execution_count": 2,
   "metadata": {},
   "outputs": [
    {
     "name": "stdout",
     "output_type": "stream",
     "text": [
      "   0  1  2\n",
      "0  1  2  3\n",
      "1  2  3  4\n",
      "2  3  4  5\n",
      "3  4  5  6\n",
      "4  5  6  7\n",
      "5  6  7  8\n",
      "6  7  8  9\n",
      "    0\n",
      "0   4\n",
      "1   5\n",
      "2   6\n",
      "3   7\n",
      "4   8\n",
      "5   9\n",
      "6  10\n"
     ]
    }
   ],
   "source": [
    "# split a univariate sequence into samples\n",
    "# Eg: [1, 2, 3, 4, 5, 6, 7, 8, 9, 10]\n",
    "#      X      y\n",
    "# [1, 2, 3], [4]\n",
    "# [2, 3, 4], [5]\n",
    "# [3, 4, 5], [6]\n",
    "def split_sequence(sequence, n_steps):\n",
    "    X, y = list(), list()\n",
    "    for i in range(len(sequence)):\n",
    "        # find the end of this pattern\n",
    "        end_ix = i + n_steps\n",
    "        # check if we are beyond the sequence\n",
    "        if end_ix > len(sequence)-1:\n",
    "            break\n",
    "        # gather input and output parts of the pattern\n",
    "        seq_x, seq_y = sequence[i:end_ix], sequence[end_ix]\n",
    "        X.append(seq_x)\n",
    "        y.append(seq_y)\n",
    "    return X, y\n",
    "\n",
    "    \n",
    "# define univariate time series\n",
    "series = np.array([1, 2, 3, 4, 5, 6, 7, 8, 9, 10])\n",
    "# transform to a supervised learning problem\n",
    "X, y = split_sequence(series, 3)\n",
    "X = pd.DataFrame(X)\n",
    "y = pd.DataFrame(y)\n",
    "print(X)\n",
    "print(y)"
   ]
  },
  {
   "cell_type": "markdown",
   "metadata": {},
   "source": [
    "#### Time Series to deep learning inputs - 3D Data Preparation Basics\n",
    "The three dimensions of this input are:\n",
    "- Samples: One sequence is one sample. A batch is comprised of one or more samples.\n",
    "- Time Steps: One time step is one point of observation in the sample. One sample is comprised of multiple time steps.\n",
    "- Features: One feature is one observation at a time step. One time step is comprised of one or more features.\n",
    "\n",
    "This expected three-dimensional structure of input data is often summarized using the array shape notation of: <b>[samples, timesteps, features]</b>\n",
    "\n",
    "For example: <br>\n",
    "- X.shape[0] refers to the number of rows in a 2D array, in this case the number of samples.\n",
    "- X.shape[1] refers to the number of features in a 2D array aka the depth of the 2 D array\n",
    "- X.shape[2] refers to the number of columns in a 2D array, in this case the number of feature that we will use as the number of time steps."
   ]
  },
  {
   "cell_type": "code",
   "execution_count": 3,
   "metadata": {},
   "outputs": [
    {
     "name": "stdout",
     "output_type": "stream",
     "text": [
      "(10,)\n",
      "(7, 3) (7,)\n",
      "(7, 3, 1)\n"
     ]
    }
   ],
   "source": [
    "# transform univariate 2d to 3d\n",
    "# split a univariate sequence into samples\n",
    "def split_sequence(sequence, n_steps):\n",
    "    X, y = list(), list()\n",
    "    for i in range(len(sequence)):\n",
    "        # find the end of this pattern\n",
    "        end_ix = i + n_steps\n",
    "        # check if we are beyond the sequence\n",
    "        if end_ix > len(sequence)-1:\n",
    "            break\n",
    "        # gather input and output parts of the pattern\n",
    "        seq_x, seq_y = sequence[i:end_ix], sequence[end_ix]\n",
    "        X.append(seq_x)\n",
    "        y.append(seq_y)\n",
    "    return np.array(X), np.array(y)\n",
    "\n",
    "# define univariate time series\n",
    "series = np.array([1, 2, 3, 4, 5, 6, 7, 8, 9, 10])\n",
    "print(series.shape)\n",
    "# transform to a supervised learning problem\n",
    "X, y = split_sequence(series, 3)\n",
    "print(X.shape, y.shape)\n",
    "# transform input from [samples, features] to [samples, timesteps, features]\n",
    "X = X.reshape((X.shape[0], X.shape[1], 1))\n",
    "print(X.shape)"
   ]
  },
  {
   "cell_type": "markdown",
   "metadata": {},
   "source": [
    "#### How to prepare Univariate time series"
   ]
  },
  {
   "cell_type": "code",
   "execution_count": 4,
   "metadata": {},
   "outputs": [
    {
     "name": "stdout",
     "output_type": "stream",
     "text": [
      "(5000, 2)\n",
      "[[ 1 10]\n",
      " [ 2 20]\n",
      " [ 3 30]\n",
      " [ 4 40]\n",
      " [ 5 50]]\n",
      "(5000,)\n",
      "[10 20 30 40 50]\n",
      "(25, 200)\n",
      "(25, 200, 1)\n"
     ]
    }
   ],
   "source": [
    "# Example data set\n",
    "# define the dataset\n",
    "data = list()\n",
    "n = 5000\n",
    "for i in range(n):\n",
    "    data.append([i+1, (i+1)*10])\n",
    "data = np.array(data)\n",
    "print(data.shape)\n",
    "print(data[0:5])\n",
    "# drop time aksfirst axis\n",
    "data = data[:, 1]\n",
    "print(data.shape)\n",
    "print(data[0:5])\n",
    "# split into samples (e.g. 5000/200 = 25)\n",
    "samples = list()\n",
    "length = 200\n",
    "# step over the 5,000 in jumps of 200\n",
    "for i in range(0,n,length):\n",
    "    # grab from i to i + 200\n",
    "    sample = data[i:i+length]\n",
    "    samples.append(sample)\n",
    "# convert list of arrays into 2d array\n",
    "data = np.array(samples)\n",
    "print(data.shape)\n",
    "# reshape into [samples, timesteps, features]\n",
    "data = data.reshape((len(samples), length, 1))\n",
    "print(data.shape)"
   ]
  }
 ],
 "metadata": {
  "kernelspec": {
   "display_name": "Python 3",
   "language": "python",
   "name": "python3"
  },
  "language_info": {
   "codemirror_mode": {
    "name": "ipython",
    "version": 3
   },
   "file_extension": ".py",
   "mimetype": "text/x-python",
   "name": "python",
   "nbconvert_exporter": "python",
   "pygments_lexer": "ipython3",
   "version": "3.7.4"
  }
 },
 "nbformat": 4,
 "nbformat_minor": 2
}
